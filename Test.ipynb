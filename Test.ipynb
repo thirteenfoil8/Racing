{
 "cells": [
  {
   "cell_type": "markdown",
   "id": "d0d301d4",
   "metadata": {},
   "source": [
    "# This notebook only run the trained network"
   ]
  },
  {
   "cell_type": "markdown",
   "id": "0e83c261",
   "metadata": {},
   "source": [
    "Basically, the algorithm works like this article https://notanymike.github.io/Solving-CarRacing/"
   ]
  },
  {
   "cell_type": "code",
   "execution_count": 1,
   "id": "00fed653",
   "metadata": {},
   "outputs": [
    {
     "name": "stdout",
     "output_type": "stream",
     "text": [
      "param/ppo_net_params_first.pkl\n",
      "Track generation: 1143..1442 -> 299-tiles track\n"
     ]
    },
    {
     "name": "stderr",
     "output_type": "stream",
     "text": [
      "E:\\anaconda\\envs\\logitech\\lib\\site-packages\\pyglet\\image\\codecs\\wic.py:289: UserWarning: [WinError -2147417850] Impossible de modifier le mode thread une fois qu’il a été fixé\n",
      "  warnings.warn(str(err))\n"
     ]
    },
    {
     "name": "stdout",
     "output_type": "stream",
     "text": [
      "Track generation: 1087..1369 -> 282-tiles track\n",
      "Ep 0\tScore: 106.76\t\n"
     ]
    }
   ],
   "source": [
    "import numpy as np\n",
    "import os\n",
    "import gym\n",
    "import torch\n",
    "import torch.nn as nn\n",
    "from network import Net\n",
    "from agent import Agent_test, Env\n",
    "\n",
    "use_cuda = torch.cuda.is_available()\n",
    "device = torch.device(\"cuda\" if use_cuda else \"cpu\")\n",
    "torch.manual_seed(0)\n",
    "if use_cuda:\n",
    "    torch.cuda.manual_seed(0)\n",
    "\n",
    "\n",
    "render=True\n",
    "if __name__ == \"__main__\":\n",
    "    agent = Agent_test()\n",
    "    agent.load_param('param/ppo_net_params_first.pkl')\n",
    "    env = Env()\n",
    "\n",
    "    training_records = []\n",
    "    running_score = 0\n",
    "    state = env.reset()\n",
    "    for i_ep in range(1): # change the values if you want to test more than 1 time\n",
    "        score = 0\n",
    "        state = env.reset()\n",
    "\n",
    "        for t in range(1000):\n",
    "            action = agent.select_action(state)\n",
    "            state_, reward, done, die = env.step(action * np.array([2., 1., 1.]) + np.array([-1., 0., 0.]))\n",
    "            if render:\n",
    "                env.render()\n",
    "            score += reward\n",
    "            state = state_\n",
    "            if done or die:\n",
    "                break\n",
    "\n",
    "        print('Ep {}\\tScore: {:.2f}\\t'.format(i_ep, score))\n",
    "    env.env.close()\n"
   ]
  },
  {
   "cell_type": "code",
   "execution_count": 4,
   "id": "e22dd7a1",
   "metadata": {},
   "outputs": [
    {
     "name": "stdout",
     "output_type": "stream",
     "text": [
      "param/ppo_net_params.pkl\n"
     ]
    }
   ],
   "source": [
    "agent.load_param()"
   ]
  },
  {
   "cell_type": "code",
   "execution_count": null,
   "id": "9e70f96c",
   "metadata": {},
   "outputs": [],
   "source": []
  }
 ],
 "metadata": {
  "kernelspec": {
   "display_name": "Python 3 (ipykernel)",
   "language": "python",
   "name": "python3"
  },
  "language_info": {
   "codemirror_mode": {
    "name": "ipython",
    "version": 3
   },
   "file_extension": ".py",
   "mimetype": "text/x-python",
   "name": "python",
   "nbconvert_exporter": "python",
   "pygments_lexer": "ipython3",
   "version": "3.9.7"
  }
 },
 "nbformat": 4,
 "nbformat_minor": 5
}
