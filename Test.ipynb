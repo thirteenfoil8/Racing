{
 "cells": [
  {
   "cell_type": "markdown",
   "metadata": {},
   "source": [
    "# Deep Q-Learning to solve CarRacing-v0\n",
    "\n",
    "We will use a simple feedforward neural network (FFNN) to solve the CarRacing-v0 environment. This is based on [Luc Prieur's solution](https://gist.github.com/lmclupr/b35c89b2f8f81b443166e88b787b03ab#file-race-car-cv2-nn-network-td0-15-possible-actions-ipynb). However, we will be adding and playing more with it, as it did not solve the environment: it obtained a mean reward of 342.69+-17.64, whereas Gym considers the environment as being solved when the agent obtains an average reward of at least 900 (over 100 consecutive episodes).\n",
    "\n",
    "We have omitted some code we felt did not contribute to the final result, or some packages that where never used in Luc Prieur's code. All credit goes to him."
   ]
  },
  {
   "cell_type": "code",
   "execution_count": 3,
   "metadata": {
    "collapsed": true
   },
   "outputs": [],
   "source": [
    "import os\n",
    "\n",
    "import numpy as np\n",
    "import matplotlib.pyplot as plt\n",
    "import seaborn as sns\n",
    "import random\n",
    "\n",
    "from keras.models import Sequential, load_model\n",
    "from keras.layers import Dense, Activation\n",
    "from keras.optimizers import Adamax\n",
    "\n",
    "import cv2\n",
    "\n",
    "import gym\n",
    "from gym import wrappers"
   ]
  },
  {
   "cell_type": "code",
   "execution_count": 4,
   "metadata": {
    "collapsed": true
   },
   "outputs": [],
   "source": [
    "sns.set_style(\"ticks\")\n",
    "sns.despine()\n",
    "\n",
    "def plot_running_avg(total_rewards):\n",
    "    N = len(total_rewards)\n",
    "    running_avg = np.empty(N)\n",
    "    for t in range(N):\n",
    "        running_avg[t] = total_rewards[max(0, t-100):(t+1)].mean()\n",
    "    plt.plot(running_avg)\n",
    "    plt.title(\"Running Average\")\n",
    "    plt.xlabel(\"Episode\")\n",
    "    plt.ylabel(\"Reward\")\n",
    "    plt.show()"
   ]
  },
  {
   "cell_type": "code",
   "execution_count": 5,
   "metadata": {},
   "outputs": [
    {
     "name": "stderr",
     "output_type": "stream",
     "text": [
      "[2017-10-20 18:46:24,663] Making new env: CarRacing-v0\n"
     ]
    }
   ],
   "source": [
    "env = gym.make(\"CarRacing-v0\")"
   ]
  },
  {
   "cell_type": "code",
   "execution_count": 6,
   "metadata": {
    "scrolled": true
   },
   "outputs": [
    {
     "name": "stderr",
     "output_type": "stream",
     "text": [
      "[2017-10-20 18:46:27,532] Creating monitor directory train_1\n"
     ]
    }
   ],
   "source": [
    "env = wrappers.Monitor(env, \"train_1\", force=True, mode='training')\n",
    "#env = wrappers.Monitor(env, \"larger_image\", resume=True, mode='training')\n",
    "#env = wrappers.Monitor(env, \"larger_image\", resume=True, mode='evaluation')"
   ]
  },
  {
   "cell_type": "code",
   "execution_count": 7,
   "metadata": {
    "collapsed": true
   },
   "outputs": [],
   "source": [
    "def transform(s):\n",
    "    # We will crop the digits in the lower right corner, as they yield little \n",
    "    # information to our agent, as well as grayscale the frames.\n",
    "    bottom_black_bar = s[84:, 12:]\n",
    "    img = cv2.cvtColor(bottom_black_bar, cv2.COLOR_RGB2GRAY)\n",
    "    bottom_black_bar_bw = cv2.threshold(img, 1, 255, cv2.THRESH_BINARY)[1]\n",
    "    bottom_black_bar_b2 = cv2.resize(bottom_black_bar_bw, (84, 12), interpolation=cv2.INTER_NEAREST)\n",
    "    \n",
    "    # We will crop the sides of the screen, so we have an 84x84 frame, and grayscale them:\n",
    "    upper_field = s[:84, 6:90]\n",
    "    img = cv2.cvtColor(upper_field, cv2.COLOR_RGB2GRAY)\n",
    "    upper_field_bw = cv2.threshold(img, 120, 255, cv2.THRESH_BINARY)[1]\n",
    "    upper_field_bw = cv2.resize(upper_field_bw, (10, 10), interpolation=cv2.INTER_NEAREST)\n",
    "    upper_field_bw = upper_field_bw.astype('float')/255\n",
    "    \n",
    "    # The car occupies a very small space, we do the same preprocessing:\n",
    "    car_field = s[66:78, 43:53]\n",
    "    img = cv2.cvtColor(car_field, cv2.COLOR_RGB2GRAY)\n",
    "    car_field_bw = cv2.threshold(img, 80, 255, cv2.THRESH_BINARY)[1]\n",
    "    car_field_t = [car_field_bw[:, 3].mean()/255, \n",
    "                   car_field_bw[:, 4].mean()/255,\n",
    "                   car_field_bw[:, 5].mean()/255, \n",
    "                   car_field_bw[:, 6].mean()/255]\n",
    "    \n",
    "    return bottom_black_bar_bw, upper_field_bw, car_field_t"
   ]
  },
  {
   "cell_type": "code",
   "execution_count": 8,
   "metadata": {
    "collapsed": true
   },
   "outputs": [],
   "source": [
    "# This function uses the bottom black bar of the screen and extracts the\n",
    "# steering setting, speed, and gyroscope data.\n",
    "\n",
    "def compute_steering_speed_gyro_abs(a):\n",
    "    right_steering = a[6, 36:46].mean()/255\n",
    "    left_steering = a[6, 26:36].mean()/255\n",
    "    steering = (right_steering - left_steering + 1.0)/2\n",
    "    \n",
    "    left_gyro = a[6, 46:60].mean()/255\n",
    "    right_gyro = a[6, 60:76].mean()/255\n",
    "    gyro = (right_gyro - left_gyro + 1.0)/2\n",
    "    \n",
    "    speed = a[:, 0][:-2].mean()/255\n",
    "    abs1 = a[:, 6][:-2].mean()/255\n",
    "    abs2 = a[:, 8][:-2].mean()/255\n",
    "    abs3 = a[:, 10][:-2].mean()/255\n",
    "    abs4 = a[:, 12][:-2].mean()/255\n",
    "    \n",
    "    return [steering, speed, gyro, abs1, abs2, abs3, abs4]"
   ]
  },
  {
   "cell_type": "code",
   "execution_count": 9,
   "metadata": {
    "collapsed": true
   },
   "outputs": [],
   "source": [
    "vector_size = 10*10 + 7 + 4"
   ]
  },
  {
   "cell_type": "code",
   "execution_count": 10,
   "metadata": {
    "collapsed": true
   },
   "outputs": [],
   "source": [
    "def create_nn():\n",
    "    if os.path.exists('race-car_larger.h5'):\n",
    "        return load_model('race-car_larger.h5')\n",
    "    \n",
    "    model = Sequential()\n",
    "    model.add(Dense(512, init='lecun_uniform', input_shape=(vector_size,)))  # 7x7+3 or 14x14+3\n",
    "    model.add(Activation('relu'))\n",
    "    \n",
    "    model.add(Dense(11, init='lecun_uniform'))\n",
    "    model.add(Activation('linear'))  # linear output so we can have a range of real-valued opts.\n",
    "    \n",
    "    model.compile(loss='mse', optimizer=Adamax())  # lr=0.001\n",
    "    model.summary()\n",
    "    \n",
    "    return model"
   ]
  },
  {
   "cell_type": "code",
   "execution_count": 11,
   "metadata": {
    "collapsed": true
   },
   "outputs": [],
   "source": [
    "class Model:\n",
    "    def __init__(self, env):\n",
    "        self.env = env\n",
    "        self.model = create_nn()  # One FFNN for all actions\n",
    "        \n",
    "    def predict(self, s):\n",
    "        return self.model.predict(s.reshape(-1, vector_size), verbose=0)[0]\n",
    "    \n",
    "    def update(self, s, G):\n",
    "        self.model.fit(s.reshape(-1, vector_size), \n",
    "                       np.array(G).reshape(-1, 11), \n",
    "                       nb_epoch=1, \n",
    "                       verbose=0)\n",
    "        \n",
    "    def sample_action(self, s, eps):\n",
    "        qval = self.predict(s)\n",
    "        if np.random.random() < eps:\n",
    "            return random.randint(0,10), qval\n",
    "        else:\n",
    "            return np.argmax(qval), qval"
   ]
  },
  {
   "cell_type": "code",
   "execution_count": 12,
   "metadata": {
    "collapsed": true
   },
   "outputs": [],
   "source": [
    "def convert_argmax_qval_to_env_action(output_value):\n",
    "    # We reduce the action space to \n",
    "    \n",
    "    gas = 0.0\n",
    "    brake = 0.0\n",
    "    steering = 0.0\n",
    "    \n",
    "    # Output value ranges from 0 to 10:\n",
    "    \n",
    "    if output_value <= 8:\n",
    "        # Steering, brake, and gas are zero\n",
    "        output_value -= 4\n",
    "        steering = float(output_value)/4\n",
    "    elif output_value >=9 and output_value <=9:\n",
    "        output_value -= 8\n",
    "        gas = float(output_value)/3  # 33% of gas\n",
    "    elif output_value >= 10 and output_value <= 10:\n",
    "        output_value -= 9\n",
    "        brake = float(output_value)/2  # 50% of brake\n",
    "    else:\n",
    "        print(\"Error\")  #Why?\n",
    "        \n",
    "    white = np.ones((round(gas * 100), 10))\n",
    "    black = np.zeros((round(100 - gas * 100), 10))\n",
    "    gas_display = np.concatenate((black, white)) * 255\n",
    "    \n",
    "    white = np.ones((round(brake * 100), 10))\n",
    "    black = np.zeros((round(100 - brake * 100), 10))\n",
    "    brake_display = np.concatenate((black, white)) * 255\n",
    "    \n",
    "    control_display = np.concatenate((brake_display, gas_display), axis=1)\n",
    "    \n",
    "    cv2.imshow('controls', control_display)\n",
    "    cv2.waitKey(1)\n",
    "    \n",
    "    return [steering, gas, brake]"
   ]
  },
  {
   "cell_type": "code",
   "execution_count": 13,
   "metadata": {
    "collapsed": true
   },
   "outputs": [],
   "source": [
    "def play_one(env, model, eps, gamma):\n",
    "    observation = env.reset()\n",
    "    done = False\n",
    "    full_reward_received = False\n",
    "    totalreward = 0\n",
    "    iters = 0\n",
    "    while not done:\n",
    "        a, b, c = transform(observation)\n",
    "        state = np.concatenate((np.array([compute_steering_speed_gyro_abs(a)]).reshape(1,-1).flatten(),\n",
    "                               b.reshape(1, -1).flatten(),c), axis=0)  # 3+7*7 size vector, scaled in range 0-1\n",
    "        argmax_qval, qval = model.sample_action(state, eps)\n",
    "        prev_state = state\n",
    "        action = convert_argmax_qval_to_env_action(argmax_qval)\n",
    "        observation, reward, done, info = env.step(action)\n",
    "        \n",
    "        a, b, c = transform(observation)\n",
    "        state = np.concatenate((np.array([compute_steering_speed_gyro_abs(a)]).reshape(1,-1).flatten(),\n",
    "                               b.reshape(1,-1).flatten(), c), axis=0)\n",
    "        \n",
    "        # Update the model, standard Q-Learning TD(0)\n",
    "        next_qval = model.predict(state)\n",
    "        G = reward + gamma*np.max(next_qval)\n",
    "        y = qval[:]\n",
    "        y[argmax_qval] = G\n",
    "        model.update(prev_state, y)\n",
    "        totalreward += reward\n",
    "        iters += 1\n",
    "        \n",
    "        if iters > 1600:\n",
    "            print(\"This episode is stuck.\")\n",
    "            break\n",
    "            \n",
    "    return totalreward, iters"
   ]
  },
  {
   "cell_type": "code",
   "execution_count": 14,
   "metadata": {
    "scrolled": true
   },
   "outputs": [
    {
     "name": "stderr",
     "output_type": "stream",
     "text": [
      "/home/diego/miniconda3/envs/USA/lib/python3.5/site-packages/ipykernel_launcher.py:6: UserWarning: Update your `Dense` call to the Keras 2 API: `Dense(512, input_shape=(111,), kernel_initializer=\"lecun_uniform\")`\n",
      "  \n",
      "/home/diego/miniconda3/envs/USA/lib/python3.5/site-packages/ipykernel_launcher.py:9: UserWarning: Update your `Dense` call to the Keras 2 API: `Dense(11, kernel_initializer=\"lecun_uniform\")`\n",
      "  if __name__ == '__main__':\n"
     ]
    },
    {
     "name": "stdout",
     "output_type": "stream",
     "text": [
      "_________________________________________________________________\n",
      "Layer (type)                 Output Shape              Param #   \n",
      "=================================================================\n",
      "dense_1 (Dense)              (None, 512)               57344     \n",
      "_________________________________________________________________\n",
      "activation_1 (Activation)    (None, 512)               0         \n",
      "_________________________________________________________________\n",
      "dense_2 (Dense)              (None, 11)                5643      \n",
      "_________________________________________________________________\n",
      "activation_2 (Activation)    (None, 11)                0         \n",
      "=================================================================\n",
      "Total params: 62,987\n",
      "Trainable params: 62,987\n",
      "Non-trainable params: 0\n",
      "_________________________________________________________________\n",
      "Track generation: 1169..1465 -> 296-tiles track\n"
     ]
    },
    {
     "name": "stderr",
     "output_type": "stream",
     "text": [
      "[2017-10-20 18:46:46,494] Starting new video recorder writing to /home/diego/Desktop/train_1/openaigym.video.0.2951.video000000.mp4\n",
      "/home/diego/miniconda3/envs/USA/lib/python3.5/site-packages/keras/models.py:848: UserWarning: The `nb_epoch` argument in `fit` has been renamed `epochs`.\n",
      "  warnings.warn('The `nb_epoch` argument in `fit` '\n"
     ]
    },
    {
     "name": "stdout",
     "output_type": "stream",
     "text": [
      "Episode:  0 , iters:  1000 , total reward:  -52.54237288135656 , epsilon:  0.0166574151163 , average reward (of last 100):  -52.5423728814\n",
      "Track generation: 1107..1388 -> 281-tiles track\n"
     ]
    },
    {
     "name": "stderr",
     "output_type": "stream",
     "text": [
      "[2017-10-20 18:47:41,174] Starting new video recorder writing to /home/diego/Desktop/train_1/openaigym.video.0.2951.video000001.mp4\n",
      "/home/diego/miniconda3/envs/USA/lib/python3.5/site-packages/keras/models.py:848: UserWarning: The `nb_epoch` argument in `fit` has been renamed `epochs`.\n",
      "  warnings.warn('The `nb_epoch` argument in `fit` '\n"
     ]
    },
    {
     "name": "stdout",
     "output_type": "stream",
     "text": [
      "Episode:  1 , iters:  1000 , total reward:  -25.000000000000835 , epsilon:  0.0166481789553 , average reward (of last 100):  -38.7711864407\n",
      "Track generation: 1265..1590 -> 325-tiles track\n",
      "Episode:  2 , iters:  214 , total reward:  -16.36172839506129 , epsilon:  0.016638958141 , average reward (of last 100):  -31.3013670921\n",
      "Track generation: 1201..1506 -> 305-tiles track\n",
      "Episode:  3 , iters:  309 , total reward:  -61.7210526315793 , epsilon:  0.0166297526309 , average reward (of last 100):  -38.906288477\n",
      "Track generation: 1146..1436 -> 290-tiles track\n",
      "Episode:  4 , iters:  305 , total reward:  -57.735640138408655 , epsilon:  0.0166205623829 , average reward (of last 100):  -42.6721588093\n",
      "Track generation: 1119..1411 -> 292-tiles track\n",
      "Episode:  5 , iters:  229 , total reward:  42.14845360824805 , epsilon:  0.0166113873546 , average reward (of last 100):  -28.535390073\n",
      "Track generation: 1080..1354 -> 274-tiles track\n",
      "Episode:  6 , iters:  310 , total reward:  -53.97692307692323 , epsilon:  0.0166022275043 , average reward (of last 100):  -32.1698947879\n",
      "Track generation: 1071..1343 -> 272-tiles track\n"
     ]
    },
    {
     "name": "stderr",
     "output_type": "stream",
     "text": [
      "[2017-10-20 18:49:16,177] Starting new video recorder writing to /home/diego/Desktop/train_1/openaigym.video.0.2951.video000008.mp4\n"
     ]
    },
    {
     "name": "stdout",
     "output_type": "stream",
     "text": [
      "Episode:  7 , iters:  314 , total reward:  -50.119188191881804 , epsilon:  0.01659308279 , average reward (of last 100):  -34.4135564634\n",
      "Track generation: 1100..1379 -> 279-tiles track\n"
     ]
    },
    {
     "name": "stderr",
     "output_type": "stream",
     "text": [
      "/home/diego/miniconda3/envs/USA/lib/python3.5/site-packages/keras/models.py:848: UserWarning: The `nb_epoch` argument in `fit` has been renamed `epochs`.\n",
      "  warnings.warn('The `nb_epoch` argument in `fit` '\n"
     ]
    },
    {
     "name": "stdout",
     "output_type": "stream",
     "text": [
      "Episode:  8 , iters:  306 , total reward:  -54.9604316546765 , epsilon:  0.0165839531702 , average reward (of last 100):  -36.6965425957\n",
      "Track generation: 1015..1273 -> 258-tiles track\n",
      "Episode:  9 , iters:  311 , total reward:  -49.28793774319045 , epsilon:  0.0165748386033 , average reward (of last 100):  -37.9556821105\n",
      "Track generation: 1203..1514 -> 311-tiles track\n",
      "Episode:  10 , iters:  224 , total reward:  9.958064516129511 , epsilon:  0.0165657390481 , average reward (of last 100):  -33.5998869626\n",
      "Track generation: 1122..1413 -> 291-tiles track\n",
      "Episode:  11 , iters:  220 , total reward:  19.479310344828235 , epsilon:  0.0165566544633 , average reward (of last 100):  -29.1766205203\n",
      "Track generation: 1108..1389 -> 281-tiles track\n",
      "Episode:  12 , iters:  309 , total reward:  -55.8000000000003 , epsilon:  0.016547584808 , average reward (of last 100):  -31.224572788\n",
      "Track generation: 1084..1365 -> 281-tiles track\n",
      "Episode:  13 , iters:  218 , total reward:  21.157142857143413 , epsilon:  0.0165385300414 , average reward (of last 100):  -27.4830216705\n",
      "Track generation: 1157..1450 -> 293-tiles track\n",
      "Episode:  14 , iters:  315 , total reward:  -59.48219178082229 , epsilon:  0.0165294901227 , average reward (of last 100):  -29.6162996778\n",
      "Track generation: 1256..1574 -> 318-tiles track\n",
      "Episode:  15 , iters:  338 , total reward:  -67.453943217666 , epsilon:  0.0165204650114 , average reward (of last 100):  -31.9811523991\n",
      "Track generation: 1057..1365 -> 308-tiles track\n",
      "retry to generate track (normal if there are not many of this messages)\n",
      "Track generation: 1117..1400 -> 283-tiles track\n",
      "Episode:  16 , iters:  1000 , total reward:  -25.53191489361784 , epsilon:  0.0165114546671 , average reward (of last 100):  -31.601785487\n",
      "Track generation: 1212..1529 -> 317-tiles track\n",
      "Episode:  17 , iters:  249 , total reward:  -1.3822784810119657 , epsilon:  0.0165024590496 , average reward (of last 100):  -29.9229239867\n",
      "Track generation: 1119..1405 -> 286-tiles track\n",
      "retry to generate track (normal if there are not many of this messages)\n",
      "Track generation: 1004..1259 -> 255-tiles track\n",
      "Episode:  18 , iters:  305 , total reward:  -47.722834645668996 , epsilon:  0.0164934781189 , average reward (of last 100):  -30.8597613898\n",
      "Track generation: 1225..1536 -> 311-tiles track\n",
      "Episode:  19 , iters:  1000 , total reward:  -32.25806451612983 , epsilon:  0.0164845118349 , average reward (of last 100):  -30.9296765461\n",
      "Track generation: 1181..1490 -> 309-tiles track\n",
      "Episode:  20 , iters:  247 , total reward:  50.724675324676014 , epsilon:  0.016475560158 , average reward (of last 100):  -27.041374076\n",
      "Track generation: 1053..1329 -> 276-tiles track\n",
      "Episode:  21 , iters:  237 , total reward:  54.581818181818846 , epsilon:  0.0164666230485 , average reward (of last 100):  -23.3312289734\n",
      "Track generation: 1198..1501 -> 303-tiles track\n",
      "Episode:  22 , iters:  313 , total reward:  -61.663576158940785 , epsilon:  0.0164577004669 , average reward (of last 100):  -24.9978527641\n",
      "Track generation: 1133..1420 -> 287-tiles track\n",
      "Episode:  23 , iters:  301 , total reward:  -56.573426573426936 , epsilon:  0.016448792374 , average reward (of last 100):  -26.3135016728\n",
      "Track generation: 1347..1688 -> 341-tiles track\n",
      "Episode:  24 , iters:  278 , total reward:  -65.93529411764735 , epsilon:  0.0164398987305 , average reward (of last 100):  -27.8983733706\n",
      "Track generation: 1120..1404 -> 284-tiles track\n",
      "Episode:  25 , iters:  290 , total reward:  -54.69505300353394 , epsilon:  0.0164310194975 , average reward (of last 100):  -28.929014895\n",
      "Track generation: 1077..1350 -> 273-tiles track\n"
     ]
    },
    {
     "name": "stderr",
     "output_type": "stream",
     "text": [
      "[2017-10-20 18:52:12,198] Starting new video recorder writing to /home/diego/Desktop/train_1/openaigym.video.0.2951.video000027.mp4\n"
     ]
    },
    {
     "name": "stdout",
     "output_type": "stream",
     "text": [
      "Episode:  26 , iters:  304 , total reward:  -53.094117647058944 , epsilon:  0.0164221546361 , average reward (of last 100):  -29.8240187006\n",
      "Track generation: 1021..1280 -> 259-tiles track\n"
     ]
    },
    {
     "name": "stderr",
     "output_type": "stream",
     "text": [
      "/home/diego/miniconda3/envs/USA/lib/python3.5/site-packages/keras/models.py:848: UserWarning: The `nb_epoch` argument in `fit` has been renamed `epochs`.\n",
      "  warnings.warn('The `nb_epoch` argument in `fit` '\n"
     ]
    },
    {
     "name": "stdout",
     "output_type": "stream",
     "text": [
      "Episode:  27 , iters:  282 , total reward:  -46.7046511627905 , epsilon:  0.0164133041075 , average reward (of last 100):  -30.4268984314\n",
      "Track generation: 1159..1453 -> 294-tiles track\n",
      "Episode:  28 , iters:  269 , total reward:  -55.127645051194825 , epsilon:  0.0164044678731 , average reward (of last 100):  -31.2786483148\n",
      "Track generation: 1049..1309 -> 260-tiles track\n",
      "Episode:  29 , iters:  290 , total reward:  -51.6799227799229 , epsilon:  0.0163956458946 , average reward (of last 100):  -31.958690797\n",
      "Track generation: 1086..1361 -> 275-tiles track\n",
      "Episode:  30 , iters:  1000 , total reward:  -23.3576642335773 , epsilon:  0.0163868381336 , average reward (of last 100):  -31.6812383272\n",
      "Track generation: 1164..1459 -> 295-tiles track\n",
      "Episode:  31 , iters:  1000 , total reward:  -28.57142857142937 , epsilon:  0.016378044552 , average reward (of last 100):  -31.5840567723\n",
      "Track generation: 872..1101 -> 229-tiles track\n",
      "Episode:  32 , iters:  227 , total reward:  65.99649122807094 , epsilon:  0.0163692651118 , average reward (of last 100):  -28.6270704693\n",
      "Track generation: 1095..1379 -> 284-tiles track\n",
      "Episode:  33 , iters:  220 , total reward:  15.909187279152462 , epsilon:  0.0163604997751 , average reward (of last 100):  -27.3171805355\n",
      "Track generation: 1138..1426 -> 288-tiles track\n",
      "Episode:  34 , iters:  337 , total reward:  -63.91358885017465 , epsilon:  0.0163517485042 , average reward (of last 100):  -28.3627922016\n",
      "Track generation: 1137..1425 -> 288-tiles track\n",
      "Episode:  35 , iters:  1000 , total reward:  -30.313588850175062 , epsilon:  0.0163430112615 , average reward (of last 100):  -28.4169809974\n",
      "Track generation: 1099..1378 -> 279-tiles track\n",
      "Episode:  36 , iters:  430 , total reward:  -67.3604316546767 , epsilon:  0.0163342880096 , average reward (of last 100):  -29.4695066909\n",
      "Track generation: 1107..1388 -> 281-tiles track\n",
      "Episode:  37 , iters:  302 , total reward:  -55.10000000000032 , epsilon:  0.0163255787112 , average reward (of last 100):  -30.1439933569\n",
      "Track generation: 954..1205 -> 251-tiles track\n",
      "Episode:  38 , iters:  266 , total reward:  73.50000000000091 , epsilon:  0.0163168833291 , average reward (of last 100):  -27.4864550657\n",
      "Track generation: 1119..1403 -> 284-tiles track\n",
      "Episode:  39 , iters:  1000 , total reward:  -25.79505300353441 , epsilon:  0.0163082018263 , average reward (of last 100):  -27.4441700142\n",
      "Track generation: 1100..1379 -> 279-tiles track\n",
      "Episode:  40 , iters:  362 , total reward:  -60.560431654676606 , epsilon:  0.016299534166 , average reward (of last 100):  -28.2518837127\n",
      "Track generation: 1200..1504 -> 304-tiles track\n",
      "Episode:  41 , iters:  1000 , total reward:  35.313531353134124 , epsilon:  0.0162908803113 , average reward (of last 100):  -26.7384214492\n",
      "Track generation: 1222..1532 -> 310-tiles track\n",
      "Episode:  42 , iters:  1000 , total reward:  39.15857605178186 , epsilon:  0.0162822402256 , average reward (of last 100):  -25.2059331353\n",
      "Track generation: 1251..1568 -> 317-tiles track\n",
      "Episode:  43 , iters:  1000 , total reward:  112.02531645569951 , epsilon:  0.0162736138726 , average reward (of last 100):  -22.0870410991\n",
      "Track generation: 1191..1493 -> 302-tiles track\n",
      "Episode:  44 , iters:  1000 , total reward:  -30.2325581395357 , epsilon:  0.0162650012158 , average reward (of last 100):  -22.2680525889\n",
      "Track generation: 1254..1572 -> 318-tiles track\n",
      "Episode:  45 , iters:  1000 , total reward:  67.19242902208273 , epsilon:  0.0162564022191 , average reward (of last 100):  -20.3232595104\n",
      "Track generation: 960..1204 -> 244-tiles track\n",
      "Episode:  46 , iters:  261 , total reward:  -39.5802469135796 , epsilon:  0.0162478168463 , average reward (of last 100):  -20.7329826466\n",
      "Track generation: 1067..1340 -> 273-tiles track\n",
      "retry to generate track (normal if there are not many of this messages)\n",
      "Track generation: 1068..1339 -> 271-tiles track\n",
      "Episode:  47 , iters:  1000 , total reward:  3.7037037037032943 , epsilon:  0.0162392450615 , average reward (of last 100):  -20.2238850143\n",
      "Track generation: 1130..1423 -> 293-tiles track\n",
      "Episode:  48 , iters:  225 , total reward:  14.586301369863676 , epsilon:  0.016230686829 , average reward (of last 100):  -19.5134730473\n",
      "Track generation: 1291..1618 -> 327-tiles track\n",
      "Episode:  49 , iters:  1000 , total reward:  -35.58282208589035 , epsilon:  0.0162221421131 , average reward (of last 100):  -19.8348600281\n",
      "Track generation: 1355..1698 -> 343-tiles track\n",
      "Episode:  50 , iters:  1000 , total reward:  -38.596491228070974 , epsilon:  0.0162136108781 , average reward (of last 100):  -20.2027351496\n",
      "Track generation: 1196..1499 -> 303-tiles track\n",
      "Episode:  51 , iters:  1000 , total reward:  -30.463576158941226 , epsilon:  0.0162050930888 , average reward (of last 100):  -20.4000590152\n",
      "Track generation: 1103..1383 -> 280-tiles track\n",
      "Episode:  52 , iters:  679 , total reward:  140.44372759856748 , epsilon:  0.0161965887098 , average reward (of last 100):  -17.3652705885\n",
      "Track generation: 1276..1599 -> 323-tiles track\n",
      "Episode:  53 , iters:  261 , total reward:  -60.78260869565246 , epsilon:  0.016188097706 , average reward (of last 100):  -18.1692953683\n",
      "Track generation: 1155..1448 -> 293-tiles track\n",
      "Episode:  54 , iters:  1000 , total reward:  -14.383561643836442 , epsilon:  0.0161796200423 , average reward (of last 100):  -18.100463846\n",
      "Track generation: 1188..1489 -> 301-tiles track\n",
      "Episode:  55 , iters:  1000 , total reward:  140.0000000000035 , epsilon:  0.0161711556838 , average reward (of last 100):  -15.2772412773\n",
      "Track generation: 1068..1339 -> 271-tiles track\n",
      "Episode:  56 , iters:  1000 , total reward:  170.37037037037388 , epsilon:  0.0161627045959 , average reward (of last 100):  -12.0202656344\n",
      "Track generation: 1075..1357 -> 282-tiles track\n",
      "Episode:  57 , iters:  246 , total reward:  67.67081850533899 , epsilon:  0.0161542667438 , average reward (of last 100):  -10.6462814251\n",
      "Track generation: 1106..1390 -> 284-tiles track\n",
      "retry to generate track (normal if there are not many of this messages)\n",
      "Track generation: 1435..1798 -> 363-tiles track\n",
      "Episode:  58 , iters:  1000 , total reward:  96.13259668508567 , epsilon:  0.016145842093 , average reward (of last 100):  -8.8364699317\n",
      "Track generation: 1052..1319 -> 267-tiles track\n",
      "Episode:  59 , iters:  1000 , total reward:  50.37593984962674 , epsilon:  0.0161374306092 , average reward (of last 100):  -7.84959643535\n",
      "Track generation: 1292..1619 -> 327-tiles track\n",
      "Episode:  60 , iters:  1000 , total reward:  -35.58282208589035 , epsilon:  0.0161290322581 , average reward (of last 100):  -8.3042394788\n",
      "Track generation: 1088..1364 -> 276-tiles track\n",
      "Episode:  61 , iters:  1000 , total reward:  143.6363636363671 , epsilon:  0.0161206470055 , average reward (of last 100):  -5.85358458985\n",
      "Track generation: 1085..1360 -> 275-tiles track\n",
      "Episode:  62 , iters:  1000 , total reward:  -23.3576642335773 , epsilon:  0.0161122748174 , average reward (of last 100):  -6.13142712387\n",
      "Track generation: 1103..1391 -> 288-tiles track\n"
     ]
    },
    {
     "name": "stderr",
     "output_type": "stream",
     "text": [
      "[2017-10-20 19:03:32,180] Starting new video recorder writing to /home/diego/Desktop/train_1/openaigym.video.0.2951.video000064.mp4\n"
     ]
    },
    {
     "name": "stdout",
     "output_type": "stream",
     "text": [
      "Episode:  63 , iters:  237 , total reward:  47.13170731707379 , epsilon:  0.01610391566 , average reward (of last 100):  -5.29919064823\n",
      "Track generation: 1301..1631 -> 330-tiles track\n"
     ]
    },
    {
     "name": "stderr",
     "output_type": "stream",
     "text": [
      "/home/diego/miniconda3/envs/USA/lib/python3.5/site-packages/keras/models.py:848: UserWarning: The `nb_epoch` argument in `fit` has been renamed `epochs`.\n",
      "  warnings.warn('The `nb_epoch` argument in `fit` '\n"
     ]
    },
    {
     "name": "stdout",
     "output_type": "stream",
     "text": [
      "Episode:  64 , iters:  1000 , total reward:  -39.20972644376982 , epsilon:  0.0160955694995 , average reward (of last 100):  -5.82089119893\n",
      "Track generation: 1107..1393 -> 286-tiles track\n",
      "Episode:  65 , iters:  1000 , total reward:  26.315789473686543 , epsilon:  0.0160872363022 , average reward (of last 100):  -5.3339717948\n",
      "Track generation: 1299..1628 -> 329-tiles track\n",
      "Episode:  66 , iters:  1000 , total reward:  -32.92682926829351 , epsilon:  0.0160789160346 , average reward (of last 100):  -5.74580548844\n",
      "Track generation: 1246..1561 -> 315-tiles track\n",
      "Episode:  67 , iters:  1000 , total reward:  170.70063694267532 , epsilon:  0.0160706086633 , average reward (of last 100):  -3.15100486445\n",
      "Track generation: 1059..1328 -> 269-tiles track\n",
      "Episode:  68 , iters:  1000 , total reward:  202.23880597015022 , epsilon:  0.0160623141551 , average reward (of last 100):  -0.174340939312\n",
      "Track generation: 1157..1450 -> 293-tiles track\n",
      "Episode:  69 , iters:  1000 , total reward:  -31.5068493150693 , epsilon:  0.0160540324767 , average reward (of last 100):  -0.621948201823\n",
      "Track generation: 1155..1448 -> 293-tiles track\n",
      "Episode:  70 , iters:  1000 , total reward:  180.82191780822234 , epsilon:  0.0160457635951 , average reward (of last 100):  1.93359920677\n",
      "Track generation: 1073..1345 -> 272-tiles track\n",
      "Episode:  71 , iters:  1000 , total reward:  -7.749077490775891 , epsilon:  0.0160375074775 , average reward (of last 100):  1.79911758597\n",
      "Track generation: 1273..1595 -> 322-tiles track\n",
      "Episode:  72 , iters:  1000 , total reward:  -37.69470404984499 , epsilon:  0.0160292640909 , average reward (of last 100):  1.25810633069\n",
      "Track generation: 1152..1444 -> 292-tiles track\n",
      "Episode:  73 , iters:  1000 , total reward:  61.51202749140839 , epsilon:  0.0160210334028 , average reward (of last 100):  2.07234850853\n",
      "Track generation: 1188..1489 -> 301-tiles track\n",
      "Episode:  74 , iters:  1000 , total reward:  279.9999999999871 , epsilon:  0.0160128153805 , average reward (of last 100):  5.77805052842\n",
      "Track generation: 1176..1474 -> 298-tiles track\n",
      "Episode:  75 , iters:  1000 , total reward:  203.03030303030363 , epsilon:  0.0160046099916 , average reward (of last 100):  8.37347490344\n",
      "Track generation: 1202..1506 -> 304-tiles track\n",
      "Episode:  76 , iters:  1000 , total reward:  223.43234323431693 , epsilon:  0.0159964172038 , average reward (of last 100):  11.1664472194\n",
      "Track generation: 1083..1358 -> 275-tiles track\n",
      "Episode:  77 , iters:  1000 , total reward:  443.7956204379415 , epsilon:  0.0159882369848 , average reward (of last 100):  16.7129750812\n",
      "Track generation: 1269..1590 -> 321-tiles track\n",
      "Episode:  78 , iters:  1000 , total reward:  128.1249999999995 , epsilon:  0.0159800693025 , average reward (of last 100):  18.1232538776\n",
      "Track generation: 1115..1398 -> 283-tiles track\n",
      "Episode:  79 , iters:  1000 , total reward:  240.42553191489884 , epsilon:  0.015971914125 , average reward (of last 100):  20.9020323531\n",
      "Track generation: 1136..1425 -> 289-tiles track\n",
      "Episode:  80 , iters:  1000 , total reward:  261.1111111110976 , epsilon:  0.0159637714204 , average reward (of last 100):  23.8675765353\n",
      "Track generation: 1060..1336 -> 276-tiles track\n",
      "Episode:  81 , iters:  1000 , total reward:  289.0909090909018 , epsilon:  0.0159556411568 , average reward (of last 100):  27.1020074201\n",
      "Track generation: 1095..1373 -> 278-tiles track\n",
      "Episode:  82 , iters:  1000 , total reward:  188.80866425993185 , epsilon:  0.0159475233027 , average reward (of last 100):  29.0502803941\n",
      "Track generation: 1063..1333 -> 270-tiles track\n",
      "Episode:  83 , iters:  1000 , total reward:  30.111524163571424 , epsilon:  0.0159394178266 , average reward (of last 100):  29.0629142485\n",
      "Track generation: 1147..1438 -> 291-tiles track\n",
      "Episode:  84 , iters:  1000 , total reward:  175.86206896552187 , epsilon:  0.0159313246969 , average reward (of last 100):  30.7899631275\n",
      "Track generation: 1120..1404 -> 284-tiles track\n",
      "Episode:  85 , iters:  1000 , total reward:  186.21908127208962 , epsilon:  0.0159232438825 , average reward (of last 100):  32.5972784548\n",
      "Track generation: 1000..1258 -> 258-tiles track\n",
      "retry to generate track (normal if there are not many of this messages)\n",
      "Track generation: 1071..1343 -> 272-tiles track\n",
      "Episode:  86 , iters:  1000 , total reward:  342.8044280442649 , epsilon:  0.015915175352 , average reward (of last 100):  36.1628778754\n",
      "Track generation: 1235..1548 -> 313-tiles track\n",
      "Episode:  87 , iters:  1000 , total reward:  156.4102564102612 , epsilon:  0.0159071190744 , average reward (of last 100):  37.5293253587\n",
      "Track generation: 1232..1544 -> 312-tiles track\n",
      "Episode:  88 , iters:  1000 , total reward:  163.66559485530988 , epsilon:  0.0158990750187 , average reward (of last 100):  38.9465868137\n",
      "Track generation: 1319..1653 -> 334-tiles track\n",
      "Episode:  89 , iters:  1000 , total reward:  278.3783783783732 , epsilon:  0.0158910431541 , average reward (of last 100):  41.6069400533\n",
      "Track generation: 1145..1436 -> 291-tiles track\n",
      "Episode:  90 , iters:  1000 , total reward:  106.89655172413764 , epsilon:  0.0158830234497 , average reward (of last 100):  42.3244083135\n",
      "Track generation: 1149..1440 -> 291-tiles track\n",
      "Episode:  91 , iters:  1000 , total reward:  289.6551724137798 , epsilon:  0.015875015875 , average reward (of last 100):  45.0127861841\n",
      "Track generation: 1049..1315 -> 266-tiles track\n",
      "Episode:  92 , iters:  1000 , total reward:  -9.433962264151825 , epsilon:  0.0158670203994 , average reward (of last 100):  44.4273372761\n",
      "Track generation: 1136..1424 -> 288-tiles track\n",
      "Episode:  93 , iters:  1000 , total reward:  -19.860627177700284 , epsilon:  0.0158590369924 , average reward (of last 100):  43.7434227606\n",
      "Track generation: 1109..1399 -> 290-tiles track\n",
      "Episode:  94 , iters:  855 , total reward:  -19.3100346020761 , epsilon:  0.0158510656237 , average reward (of last 100):  43.0797021568\n",
      "Track generation: 1169..1476 -> 307-tiles track\n",
      "Episode:  95 , iters:  253 , total reward:  57.80653594771326 , epsilon:  0.0158431062631 , average reward (of last 100):  43.2331066754\n",
      "Track generation: 1064..1334 -> 270-tiles track\n",
      "Episode:  96 , iters:  895 , total reward:  -111.3330855018592 , epsilon:  0.0158351588805 , average reward (of last 100):  41.6396407767\n",
      "Track generation: 1044..1315 -> 271-tiles track\n",
      "Episode:  97 , iters:  1000 , total reward:  48.14814814815217 , epsilon:  0.0158272234458 , average reward (of last 100):  41.7060541172\n",
      "Track generation: 1075..1342 -> 267-tiles track\n",
      "Episode:  98 , iters:  1000 , total reward:  99.24812030075594 , epsilon:  0.0158192999292 , average reward (of last 100):  42.287287109\n",
      "Track generation: 1188..1489 -> 301-tiles track\n",
      "Episode:  99 , iters:  1000 , total reward:  63.3333333333326 , epsilon:  0.0158113883008 , average reward (of last 100):  42.4977475712\n",
      "Track generation: 1190..1500 -> 310-tiles track\n",
      "Episode:  100 , iters:  1000 , total reward:  58.57605177993998 , epsilon:  0.015803488531 , average reward (of last 100):  42.656938702\n",
      "Track generation: 1079..1361 -> 282-tiles track\n",
      "Episode:  101 , iters:  242 , total reward:  53.83594306049906 , epsilon:  0.0157956005902 , average reward (of last 100):  43.7101893549\n",
      "Track generation: 1034..1303 -> 269-tiles track\n",
      "Episode:  102 , iters:  219 , total reward:  34.916417910448416 , epsilon:  0.0157877244488 , average reward (of last 100):  44.3034212154\n",
      "Track generation: 1126..1414 -> 288-tiles track\n",
      "retry to generate track (normal if there are not many of this messages)\n",
      "Track generation: 1213..1520 -> 307-tiles track\n",
      "Episode:  103 , iters:  663 , total reward:  186.74117647058478 , epsilon:  0.0157798600774 , average reward (of last 100):  46.3143410655\n",
      "Track generation: 1091..1376 -> 285-tiles track\n",
      "Episode:  104 , iters:  232 , total reward:  49.43521126760638 , epsilon:  0.0157720074469 , average reward (of last 100):  47.4148981339\n",
      "Track generation: 1137..1425 -> 288-tiles track\n",
      "Episode:  105 , iters:  1000 , total reward:  -30.313588850175062 , epsilon:  0.015764166528 , average reward (of last 100):  47.6864035922\n",
      "Track generation: 1079..1353 -> 274-tiles track\n",
      "Episode:  106 , iters:  1000 , total reward:  475.0915750915606 , epsilon:  0.0157563372916 , average reward (of last 100):  51.9729691514\n",
      "Track generation: 1198..1502 -> 304-tiles track\n"
     ]
    },
    {
     "name": "stdout",
     "output_type": "stream",
     "text": [
      "Episode:  107 , iters:  1000 , total reward:  335.6435643564215 , epsilon:  0.0157485197087 , average reward (of last 100):  55.8305977398\n",
      "Track generation: 1406..1762 -> 356-tiles track\n",
      "Episode:  108 , iters:  1000 , total reward:  145.07042253521584 , epsilon:  0.0157407137505 , average reward (of last 100):  57.7631681431\n",
      "Track generation: 1089..1361 -> 272-tiles track\n",
      "Episode:  109 , iters:  463 , total reward:  329.8147601475983 , epsilon:  0.0157329193882 , average reward (of last 100):  61.5728235075\n",
      "Track generation: 1162..1465 -> 303-tiles track\n",
      "Episode:  110 , iters:  234 , total reward:  42.26291390728545 , epsilon:  0.0157251365931 , average reward (of last 100):  62.4792675832\n",
      "Track generation: 1266..1588 -> 322-tiles track\n",
      "Episode:  111 , iters:  1000 , total reward:  320.560747663548 , epsilon:  0.0157173653365 , average reward (of last 100):  65.5545416738\n",
      "Track generation: 1252..1569 -> 317-tiles track\n",
      "Episode:  112 , iters:  1000 , total reward:  301.8987341772089 , epsilon:  0.0157096055902 , average reward (of last 100):  68.3507735929\n",
      "Track generation: 1184..1484 -> 300-tiles track\n",
      "Episode:  113 , iters:  1000 , total reward:  241.13712374581579 , epsilon:  0.0157018573255 , average reward (of last 100):  71.2907451151\n",
      "Track generation: 1171..1468 -> 297-tiles track\n",
      "Episode:  114 , iters:  1000 , total reward:  470.945945945931 , epsilon:  0.0156941205144 , average reward (of last 100):  75.7440996012\n",
      "Track generation: 1151..1451 -> 300-tiles track\n",
      "Episode:  115 , iters:  1000 , total reward:  90.63545150502196 , epsilon:  0.0156863951285 , average reward (of last 100):  77.230412901\n",
      "Track generation: 1188..1489 -> 301-tiles track\n",
      "Episode:  116 , iters:  1000 , total reward:  236.66666666665753 , epsilon:  0.0156786811397 , average reward (of last 100):  80.2415080484\n",
      "Track generation: 1103..1383 -> 280-tiles track\n",
      "Episode:  117 , iters:  1000 , total reward:  512.9032258064356 , epsilon:  0.0156709785202 , average reward (of last 100):  85.5725490454\n",
      "Track generation: 1296..1630 -> 334-tiles track\n",
      "Episode:  118 , iters:  1000 , total reward:  62.16216216216561 , epsilon:  0.0156632872419 , average reward (of last 100):  86.2017019231\n",
      "Track generation: 1115..1398 -> 283-tiles track\n",
      "Episode:  119 , iters:  1000 , total reward:  -25.531914893617316 , epsilon:  0.0156556072771 , average reward (of last 100):  86.4214139998\n",
      "Track generation: 1212..1519 -> 307-tiles track\n",
      "Episode:  120 , iters:  1000 , total reward:  -54.248366013072925 , epsilon:  0.0156479385981 , average reward (of last 100):  86.2036882424\n",
      "Track generation: 1116..1399 -> 283-tiles track\n",
      "Episode:  121 , iters:  1000 , total reward:  -43.26241134751795 , epsilon:  0.0156402811772 , average reward (of last 100):  85.2731230279\n",
      "Track generation: 1075..1348 -> 273-tiles track\n",
      "Episode:  122 , iters:  1000 , total reward:  -22.79411764705944 , epsilon:  0.015632634987 , average reward (of last 100):  84.5070246533\n",
      "Track generation: 1169..1465 -> 296-tiles track\n",
      "Episode:  123 , iters:  509 , total reward:  161.06440677965713 , epsilon:  0.015625 , average reward (of last 100):  86.7122522072\n",
      "Track generation: 1151..1443 -> 292-tiles track\n"
     ]
    },
    {
     "name": "stderr",
     "output_type": "stream",
     "text": [
      "[2017-10-20 19:28:27,078] Starting new video recorder writing to /home/diego/Desktop/train_1/openaigym.video.0.2951.video000125.mp4\n"
     ]
    },
    {
     "name": "stdout",
     "output_type": "stream",
     "text": [
      "Episode:  124 , iters:  1000 , total reward:  -27.83505154639256 , epsilon:  0.0156173761889 , average reward (of last 100):  86.9967905738\n",
      "Track generation: 1095..1373 -> 278-tiles track\n"
     ]
    },
    {
     "name": "stderr",
     "output_type": "stream",
     "text": [
      "/home/diego/miniconda3/envs/USA/lib/python3.5/site-packages/keras/models.py:848: UserWarning: The `nb_epoch` argument in `fit` has been renamed `epochs`.\n",
      "  warnings.warn('The `nb_epoch` argument in `fit` '\n"
     ]
    },
    {
     "name": "stdout",
     "output_type": "stream",
     "text": [
      "Episode:  125 , iters:  1000 , total reward:  600.3610108303137 , epsilon:  0.0156097635264 , average reward (of last 100):  93.5937836921\n",
      "Track generation: 1344..1684 -> 340-tiles track\n",
      "Episode:  126 , iters:  1000 , total reward:  274.6312684365763 , epsilon:  0.0156021619854 , average reward (of last 100):  96.85444034\n",
      "Track generation: 1131..1418 -> 287-tiles track\n",
      "Episode:  127 , iters:  1000 , total reward:  330.0699300699231 , epsilon:  0.0155945715388 , average reward (of last 100):  100.648143783\n",
      "Track generation: 1063..1333 -> 270-tiles track\n",
      "Episode:  128 , iters:  1000 , total reward:  215.98513011151962 , epsilon:  0.0155869921597 , average reward (of last 100):  103.249032706\n",
      "Track generation: 1203..1508 -> 305-tiles track\n",
      "Episode:  129 , iters:  1000 , total reward:  143.42105263158365 , epsilon:  0.0155794238212 , average reward (of last 100):  105.214861396\n",
      "Track generation: 1291..1618 -> 327-tiles track\n",
      "Episode:  130 , iters:  1000 , total reward:  -23.31288343558323 , epsilon:  0.0155718664966 , average reward (of last 100):  105.495723172\n",
      "Track generation: 1173..1471 -> 298-tiles track\n",
      "Episode:  131 , iters:  1000 , total reward:  11.111111111110747 , epsilon:  0.0155643201591 , average reward (of last 100):  105.836998175\n",
      "Track generation: 1072..1344 -> 272-tiles track\n",
      "Episode:  132 , iters:  1000 , total reward:  -74.16974169741731 , epsilon:  0.0155567847822 , average reward (of last 100):  105.385529728\n",
      "Track generation: 1264..1584 -> 320-tiles track\n",
      "Episode:  133 , iters:  1000 , total reward:  -43.57366771159979 , epsilon:  0.0155492603393 , average reward (of last 100):  104.30067667\n",
      "Track generation: 1095..1373 -> 278-tiles track\n",
      "Episode:  134 , iters:  1000 , total reward:  -89.16967509025172 , epsilon:  0.015541746804 , average reward (of last 100):  103.260291894\n",
      "Track generation: 1304..1634 -> 330-tiles track\n",
      "Episode:  135 , iters:  1000 , total reward:  -33.1306990881463 , epsilon:  0.01553424415 , average reward (of last 100):  103.56507298\n",
      "Track generation: 1132..1419 -> 287-tiles track\n",
      "Episode:  136 , iters:  1000 , total reward:  -51.04895104895158 , epsilon:  0.0155267523511 , average reward (of last 100):  103.359772365\n",
      "Track generation: 1291..1618 -> 327-tiles track\n",
      "Episode:  137 , iters:  1000 , total reward:  215.95092024540293 , epsilon:  0.0155192713811 , average reward (of last 100):  106.164835255\n",
      "Track generation: 1275..1598 -> 323-tiles track\n",
      "Episode:  138 , iters:  1000 , total reward:  617.3913043478098 , epsilon:  0.0155118012139 , average reward (of last 100):  112.823165001\n",
      "Track generation: 1272..1594 -> 322-tiles track\n",
      "Episode:  139 , iters:  1000 , total reward:  292.52336448597976 , epsilon:  0.0155043418237 , average reward (of last 100):  114.991713164\n",
      "Track generation: 1338..1677 -> 339-tiles track\n",
      "Episode:  140 , iters:  1000 , total reward:  160.35502958580417 , epsilon:  0.0154968931843 , average reward (of last 100):  116.834783289\n",
      "Track generation: 1188..1489 -> 301-tiles track\n",
      "Episode:  141 , iters:  1000 , total reward:  296.6666666666529 , epsilon:  0.0154894552702 , average reward (of last 100):  120.371685252\n",
      "Track generation: 968..1214 -> 246-tiles track\n",
      "Episode:  142 , iters:  445 , total reward:  271.9265306122406 , epsilon:  0.0154820280556 , average reward (of last 100):  122.714388215\n",
      "Track generation: 1364..1709 -> 345-tiles track\n",
      "Episode:  143 , iters:  1000 , total reward:  417.4418604651136 , epsilon:  0.0154746115148 , average reward (of last 100):  126.459767269\n",
      "Track generation: 1269..1590 -> 321-tiles track\n",
      "Episode:  144 , iters:  1000 , total reward:  175.0000000000049 , epsilon:  0.0154672056222 , average reward (of last 100):  127.083278987\n",
      "Track generation: 1160..1454 -> 294-tiles track\n",
      "Episode:  145 , iters:  1000 , total reward:  50.170648464163065 , epsilon:  0.0154598103526 , average reward (of last 100):  127.87935034\n",
      "Track generation: 1136..1424 -> 288-tiles track\n",
      "Episode:  146 , iters:  1000 , total reward:  192.68292682927162 , epsilon:  0.0154524256804 , average reward (of last 100):  129.121830516\n",
      "Track generation: 1215..1523 -> 308-tiles track\n",
      "Episode:  147 , iters:  1000 , total reward:  -47.8827361563525 , epsilon:  0.0154450515804 , average reward (of last 100):  129.039627652\n",
      "Track generation: 1100..1379 -> 279-tiles track\n",
      "Episode:  148 , iters:  825 , total reward:  76.59280575539722 , epsilon:  0.0154376880274 , average reward (of last 100):  129.76130193\n",
      "Track generation: 1247..1563 -> 316-tiles track\n",
      "Episode:  149 , iters:  248 , total reward:  -58.03333333333359 , epsilon:  0.0154303349962 , average reward (of last 100):  129.042295646\n",
      "Track generation: 1155..1452 -> 297-tiles track\n",
      "Episode:  150 , iters:  1000 , total reward:  210.81081081081442 , epsilon:  0.0154229924619 , average reward (of last 100):  131.481836565\n",
      "Track generation: 1163..1458 -> 295-tiles track\n",
      "Episode:  151 , iters:  1000 , total reward:  420.40816326529284 , epsilon:  0.0154156603995 , average reward (of last 100):  136.026437105\n",
      "Track generation: 1246..1568 -> 322-tiles track\n",
      "Episode:  152 , iters:  1000 , total reward:  183.4890965732139 , epsilon:  0.015408338784 , average reward (of last 100):  138.144780399\n",
      "Track generation: 1144..1440 -> 296-tiles track\n",
      "Episode:  153 , iters:  1000 , total reward:  8.474576271185525 , epsilon:  0.0154010275908 , average reward (of last 100):  136.838155139\n",
      "Track generation: 1215..1523 -> 308-tiles track\n",
      "Episode:  154 , iters:  1000 , total reward:  154.0716612377903 , epsilon:  0.0153937267952 , average reward (of last 100):  138.965425138\n",
      "Track generation: 1085..1360 -> 275-tiles track\n",
      "Episode:  155 , iters:  446 , total reward:  187.6167883211648 , epsilon:  0.0153864363724 , average reward (of last 100):  140.965428603\n",
      "Track generation: 915..1156 -> 241-tiles track\n",
      "Episode:  156 , iters:  227 , total reward:  69.06666666666734 , epsilon:  0.015379156298 , average reward (of last 100):  140.263118372\n",
      "Track generation: 1212..1519 -> 307-tiles track\n",
      "Episode:  157 , iters:  1000 , total reward:  406.5359477124119 , epsilon:  0.0153718865475 , average reward (of last 100):  142.601391415\n",
      "Track generation: 965..1210 -> 245-tiles track\n",
      "Episode:  158 , iters:  1000 , total reward:  -30.327868852459712 , epsilon:  0.0153646270966 , average reward (of last 100):  141.631107382\n",
      "Track generation: 1154..1446 -> 292-tiles track\n",
      "Episode:  159 , iters:  1000 , total reward:  -24.398625429554027 , epsilon:  0.0153573779208 , average reward (of last 100):  140.437728945\n",
      "Track generation: 1198..1502 -> 304-tiles track\n",
      "Episode:  160 , iters:  1000 , total reward:  190.4290429042947 , epsilon:  0.0153501389961 , average reward (of last 100):  141.824393332\n",
      "Track generation: 1112..1394 -> 282-tiles track\n",
      "Episode:  161 , iters:  1000 , total reward:  341.2811387900323 , epsilon:  0.0153429102983 , average reward (of last 100):  145.555719677\n",
      "Track generation: 1167..1463 -> 296-tiles track\n",
      "Episode:  162 , iters:  1000 , total reward:  299.9999999999909 , epsilon:  0.0153356918033 , average reward (of last 100):  147.103874492\n",
      "Track generation: 1021..1285 -> 264-tiles track\n",
      "Episode:  163 , iters:  1000 , total reward:  314.44866920151134 , epsilon:  0.0153284834871 , average reward (of last 100):  150.448491655\n",
      "Track generation: 1039..1302 -> 263-tiles track\n",
      "Episode:  164 , iters:  467 , total reward:  196.91145038167582 , epsilon:  0.0153212853259 , average reward (of last 100):  151.931459408\n",
      "Track generation: 1207..1513 -> 306-tiles track\n",
      "Episode:  165 , iters:  1000 , total reward:  359.01639344260747 , epsilon:  0.0153140972958 , average reward (of last 100):  155.874292278\n",
      "Track generation: 1142..1434 -> 292-tiles track\n",
      "retry to generate track (normal if there are not many of this messages)\n",
      "Track generation: 1255..1573 -> 318-tiles track\n",
      "Episode:  166 , iters:  1000 , total reward:  177.60252365930938 , epsilon:  0.0153069193731 , average reward (of last 100):  157.372180736\n",
      "Track generation: 1131..1427 -> 296-tiles track\n",
      "Episode:  167 , iters:  1000 , total reward:  96.61016949152756 , epsilon:  0.0152997515341 , average reward (of last 100):  158.654725278\n",
      "Track generation: 1049..1315 -> 266-tiles track\n",
      "Episode:  168 , iters:  1000 , total reward:  -20.75471698113252 , epsilon:  0.0152925937552 , average reward (of last 100):  156.759127714\n",
      "Track generation: 993..1253 -> 260-tiles track\n"
     ]
    },
    {
     "name": "stdout",
     "output_type": "stream",
     "text": [
      "Episode:  169 , iters:  227 , total reward:  55.006177606178426 , epsilon:  0.0152854460129 , average reward (of last 100):  155.301378919\n",
      "Track generation: 1251..1568 -> 317-tiles track\n",
      "Episode:  170 , iters:  700 , total reward:  190.85949367087852 , epsilon:  0.0152783082838 , average reward (of last 100):  157.503025879\n",
      "Track generation: 1127..1413 -> 286-tiles track\n",
      "Episode:  171 , iters:  1000 , total reward:  352.6315789473513 , epsilon:  0.0152711805445 , average reward (of last 100):  159.204111633\n",
      "Track generation: 1104..1382 -> 278-tiles track\n",
      "retry to generate track (normal if there are not many of this messages)\n",
      "Track generation: 1219..1528 -> 309-tiles track\n",
      "Episode:  172 , iters:  1000 , total reward:  289.61038961037957 , epsilon:  0.0152640627718 , average reward (of last 100):  162.148264772\n",
      "Track generation: 976..1228 -> 252-tiles track\n",
      "Episode:  173 , iters:  1000 , total reward:  -32.27091633466208 , epsilon:  0.0152569549424 , average reward (of last 100):  162.201965641\n",
      "Track generation: 1290..1626 -> 336-tiles track\n",
      "Episode:  174 , iters:  1000 , total reward:  49.25373134328707 , epsilon:  0.0152498570333 , average reward (of last 100):  162.080596372\n",
      "Track generation: 1130..1417 -> 287-tiles track\n",
      "Episode:  175 , iters:  1000 , total reward:  515.3846153846025 , epsilon:  0.0152427690212 , average reward (of last 100):  164.411137118\n",
      "Track generation: 1272..1594 -> 322-tiles track\n",
      "Episode:  176 , iters:  1000 , total reward:  223.98753894081213 , epsilon:  0.0152356908834 , average reward (of last 100):  164.618634504\n",
      "Track generation: 1120..1404 -> 284-tiles track\n",
      "Episode:  177 , iters:  1000 , total reward:  345.22968197878396 , epsilon:  0.0152286225968 , average reward (of last 100):  165.824548749\n",
      "Track generation: 1104..1384 -> 280-tiles track\n",
      "Episode:  178 , iters:  1000 , total reward:  401.7921146953246 , epsilon:  0.0152215641387 , average reward (of last 100):  165.408672454\n",
      "Track generation: 1164..1459 -> 295-tiles track\n",
      "Episode:  179 , iters:  1000 , total reward:  -8.16326530612257 , epsilon:  0.0152145154863 , average reward (of last 100):  164.059283689\n",
      "Track generation: 1023..1283 -> 260-tiles track\n",
      "Episode:  180 , iters:  1000 , total reward:  266.7953667953635 , epsilon:  0.0152074766168 , average reward (of last 100):  164.320371163\n",
      "Track generation: 1154..1455 -> 301-tiles track\n",
      "Episode:  181 , iters:  1000 , total reward:  423.333333333322 , epsilon:  0.0152004475078 , average reward (of last 100):  165.926531779\n",
      "Track generation: 1204..1509 -> 305-tiles track\n",
      "Episode:  182 , iters:  1000 , total reward:  143.42105263158297 , epsilon:  0.0151934281366 , average reward (of last 100):  164.484255972\n",
      "Track generation: 1027..1291 -> 264-tiles track\n",
      "retry to generate track (normal if there are not many of this messages)\n",
      "Track generation: 1005..1263 -> 258-tiles track\n",
      "retry to generate track (normal if there are not many of this messages)\n",
      "Track generation: 995..1248 -> 253-tiles track\n",
      "Episode:  183 , iters:  1000 , total reward:  503.1746031745914 , epsilon:  0.0151864184808 , average reward (of last 100):  167.596790021\n",
      "Track generation: 1268..1589 -> 321-tiles track\n",
      "Episode:  184 , iters:  1000 , total reward:  412.4999999999844 , epsilon:  0.015179418518 , average reward (of last 100):  171.382814534\n",
      "Track generation: 1227..1538 -> 311-tiles track\n",
      "Episode:  185 , iters:  1000 , total reward:  141.93548387097212 , epsilon:  0.0151724282259 , average reward (of last 100):  171.046907751\n",
      "Track generation: 1016..1274 -> 258-tiles track\n",
      "Episode:  186 , iters:  1000 , total reward:  168.48249027237708 , epsilon:  0.0151654475822 , average reward (of last 100):  170.871297939\n",
      "Track generation: 990..1241 -> 251-tiles track\n",
      "Episode:  187 , iters:  1000 , total reward:  220.0000000000025 , epsilon:  0.0151584765648 , average reward (of last 100):  169.655412513\n",
      "Track generation: 1229..1540 -> 311-tiles track\n",
      "Episode:  188 , iters:  1000 , total reward:  267.74193548386137 , epsilon:  0.0151515151515 , average reward (of last 100):  170.757706365\n",
      "Track generation: 1320..1654 -> 334-tiles track\n",
      "Episode:  189 , iters:  947 , total reward:  345.94054054053595 , epsilon:  0.0151445633204 , average reward (of last 100):  172.562408798\n",
      "Track generation: 1042..1307 -> 265-tiles track\n",
      "Episode:  190 , iters:  1000 , total reward:  608.3333333333168 , epsilon:  0.0151376210494 , average reward (of last 100):  175.82928954\n",
      "Track generation: 1090..1367 -> 277-tiles track\n",
      "Episode:  191 , iters:  1000 , total reward:  287.6811594202742 , epsilon:  0.0151306883167 , average reward (of last 100):  177.619236151\n",
      "Track generation: 1058..1332 -> 274-tiles track\n",
      "Episode:  192 , iters:  1000 , total reward:  42.857142857142634 , epsilon:  0.0151237651005 , average reward (of last 100):  175.175691304\n",
      "Track generation: 1182..1487 -> 305-tiles track\n",
      "Episode:  193 , iters:  722 , total reward:  -37.2315789473686 , epsilon:  0.0151168513789 , average reward (of last 100):  174.900467376\n",
      "Track generation: 1265..1585 -> 320-tiles track\n",
      "Episode:  194 , iters:  1000 , total reward:  141.37931034483273 , epsilon:  0.0151099471304 , average reward (of last 100):  176.496902401\n",
      "Track generation: 1147..1438 -> 291-tiles track\n",
      "Episode:  195 , iters:  474 , total reward:  266.4931034482714 , epsilon:  0.0151030523333 , average reward (of last 100):  179.326636441\n",
      "Track generation: 993..1245 -> 252-tiles track\n",
      "Episode:  196 , iters:  1000 , total reward:  473.7051792828508 , epsilon:  0.015096166966 , average reward (of last 100):  183.444444791\n",
      "Track generation: 1126..1416 -> 290-tiles track\n",
      "Episode:  197 , iters:  1000 , total reward:  128.3737024221495 , epsilon:  0.0150892910071 , average reward (of last 100):  185.817779325\n",
      "Track generation: 1020..1279 -> 259-tiles track\n",
      "Episode:  198 , iters:  1000 , total reward:  737.2093023255691 , epsilon:  0.0150824244352 , average reward (of last 100):  192.64016699\n",
      "Track generation: 1187..1488 -> 301-tiles track\n",
      "Episode:  199 , iters:  1000 , total reward:  153.3333333333384 , epsilon:  0.0150755672289 , average reward (of last 100):  193.175664149\n",
      "Track generation: 1069..1340 -> 271-tiles track\n",
      "Episode:  200 , iters:  1000 , total reward:  237.0370370370278 , epsilon:  0.015068719367 , average reward (of last 100):  194.895502799\n",
      "Track generation: 1159..1453 -> 294-tiles track\n",
      "Episode:  201 , iters:  1000 , total reward:  490.44368600680775 , epsilon:  0.0150618808282 , average reward (of last 100):  199.17141997\n",
      "Average reward for the last 100 episodes:  200.624774739\n",
      "Total steps:  24424.6642259\n"
     ]
    },
    {
     "data": {
      "image/png": "[encoded data removed]",
      "text/plain": [
       "<matplotlib.figure.Figure at 0x7fcc3a132470>"
      ]
     },
     "metadata": {},
     "output_type": "display_data"
    },
    {
     "data": {
      "image/png": "[encoded data removed]",
      "text/plain": [
       "<matplotlib.figure.Figure at 0x7fcc52e36128>"
      ]
     },
     "metadata": {},
     "output_type": "display_data"
    }
   ],
   "source": [
    "model = Model(env)\n",
    "gamma = 0.99\n",
    "\n",
    "N = 202\n",
    "totalrewards = np.empty(N)\n",
    "costs = np.empty(N)\n",
    "\n",
    "for n in range(N):\n",
    "    eps = 0.5/np.sqrt(n+1+900)\n",
    "    totalreward, iters = play_one(env, model, eps, gamma)\n",
    "    totalrewards[n] = totalreward\n",
    "    print(\"Episode: \", n, \n",
    "          \", iters: \", iters, \n",
    "          \", total reward: \", totalreward, \n",
    "          \", epsilon: \", eps, \n",
    "          \", average reward (of last 100): \", totalrewards[max(0,n-100):(n+1)].mean()\n",
    "         )\n",
    "    # We save the model every 10 episodes:\n",
    "    if n%10 == 0:\n",
    "        model.model.save('race-car_larger.h5')\n",
    "        \n",
    "print(\"Average reward for the last 100 episodes: \", totalrewards[-100:].mean())\n",
    "print(\"Total steps: \", totalrewards.sum())\n",
    "\n",
    "plt.plot(totalrewards)\n",
    "plt.title(\"Rewards\")\n",
    "plt.xlabel(\"Episode\")\n",
    "plt.ylabel(\"Reward\")\n",
    "plt.show()\n",
    "\n",
    "plot_running_avg(totalrewards)"
   ]
  },
  {
   "cell_type": "code",
   "execution_count": 15,
   "metadata": {
    "collapsed": true
   },
   "outputs": [],
   "source": [
    "model.model.save('race-car_test1.h5')"
   ]
  },
  {
   "cell_type": "code",
   "execution_count": 16,
   "metadata": {
    "scrolled": true
   },
   "outputs": [
    {
     "name": "stderr",
     "output_type": "stream",
     "text": [
      "[2017-10-20 20:00:18,886] Finished writing results. You can upload them to the scoreboard via gym.upload('/home/diego/Desktop/train_1')\n"
     ]
    }
   ],
   "source": [
    "env.close()"
   ]
  },
  {
   "cell_type": "code",
   "execution_count": null,
   "metadata": {
    "collapsed": true
   },
   "outputs": [],
   "source": []
  }
 ],
 "metadata": {
  "kernelspec": {
   "display_name": "Python 3",
   "language": "python",
   "name": "python3"
  },
  "language_info": {
   "codemirror_mode": {
    "name": "ipython",
    "version": 3
   },
   "file_extension": ".py",
   "mimetype": "text/x-python",
   "name": "python",
   "nbconvert_exporter": "python",
   "pygments_lexer": "ipython3",
   "version": "3.5.0"
  }
 },
 "nbformat": 4,
 "nbformat_minor": 2
}